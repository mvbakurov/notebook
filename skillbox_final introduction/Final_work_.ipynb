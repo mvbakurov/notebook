{
 "cells": [
  {
   "cell_type": "code",
   "execution_count": 1,
   "id": "a93db303",
   "metadata": {},
   "outputs": [
    {
     "name": "stderr",
     "output_type": "stream",
     "text": [
      "C:\\Users\\Mike\\AppData\\Local\\Temp\\ipykernel_6780\\2455362022.py:11: DtypeWarning: Columns (2) have mixed types. Specify dtype option on import or set low_memory=False.\n",
      "  df_sessions = pd.read_csv('data/ga_sessions.csv')\n"
     ]
    }
   ],
   "source": [
    "import pandas as pd\n",
    "import dill\n",
    "import missingno as msno\n",
    "import matplotlib.pyplot as plt\n",
    "\n",
    "\n",
    "\n",
    "# Загрузил df_hits\n",
    "df_hits = pd.read_csv('data/ga_hits.csv').drop_duplicates()\n",
    "# Загрузил df_sessions\n",
    "df_sessions = pd.read_csv('data/ga_sessions.csv')\n"
   ]
  },
  {
   "cell_type": "code",
   "execution_count": null,
   "outputs": [],
   "source": [
    "msno.matrix(df_hits)"
   ],
   "metadata": {
    "collapsed": false
   }
  },
  {
   "cell_type": "code",
   "execution_count": null,
   "outputs": [],
   "source": [
    "msno.matrix(df_sessions)"
   ],
   "metadata": {
    "collapsed": false
   }
  },
  {
   "cell_type": "code",
   "execution_count": null,
   "outputs": [],
   "source": [
    "df_hits.isna().sum()"
   ],
   "metadata": {
    "collapsed": false
   }
  },
  {
   "cell_type": "code",
   "execution_count": null,
   "outputs": [],
   "source": [
    "df_sessions.isna().sum()"
   ],
   "metadata": {
    "collapsed": false
   }
  },
  {
   "cell_type": "code",
   "execution_count": null,
   "outputs": [],
   "source": [
    "df_hits.hit_time.describe()"
   ],
   "metadata": {
    "collapsed": false
   }
  },
  {
   "cell_type": "code",
   "execution_count": null,
   "outputs": [],
   "source": [
    "!p"
   ],
   "metadata": {
    "collapsed": false
   }
  },
  {
   "cell_type": "code",
   "execution_count": null,
   "outputs": [],
   "source": [
    "import pandas_profiling"
   ],
   "metadata": {
    "collapsed": false
   }
  },
  {
   "cell_type": "code",
   "execution_count": null,
   "outputs": [],
   "source": [
    "pandas_profiling.ProfileReport(df_hits)"
   ],
   "metadata": {
    "collapsed": false
   }
  },
  {
   "cell_type": "code",
   "execution_count": null,
   "outputs": [],
   "source": [
    "pandas_profiling.ProfileReport(df_sessions)"
   ],
   "metadata": {
    "collapsed": false
   }
  },
  {
   "cell_type": "code",
   "execution_count": null,
   "outputs": [],
   "source": [
    "# Добавил столбец target_action 1 - целевое действие - иначе 0\n",
    "target_action = [\n",
    "    'sub_car_claim_click',\n",
    "    'sub_car_claim_submit_click',\n",
    "    'sub_open_dialog_click',\n",
    "    'sub_custom_question_submit_click',\n",
    "    'sub_call_number_click',\n",
    "    'sub_callback_submit_click',\n",
    "    'sub_submit_success',\n",
    "    'sub_car_request_submit_click']\n",
    "df_hits['target_action'] = df_hits.event_action.apply(lambda x: 1 if x in target_action else 0)\n",
    "\n",
    "\n",
    "# Удалил пустой столбец\n",
    "df_hits = df_hits.drop('event_value', axis = 1)\n",
    "\n",
    "# Вместо адреса добавил 2 столбца manufacturer and model.\n",
    "#df_hits[['manufacturer', 'model']] = df_hits.hit_page_path.str.split('/', expand=True)[[3, 4]]\n",
    "# Столбец hit page path удалил. Строки с пропусками...\n",
    "\n",
    "df_hits = df_hits.drop(['hit_time', 'hit_referer', 'event_label', 'hit_page_path', 'event_action'], axis=1)\n",
    "\n",
    "# в Dataframe res хранится id сессии и факт выполнения целевого действия\n",
    "res = df_hits[['session_id', 'target_action']].groupby(by='session_id').sum()\n",
    "res.target_action = res.target_action.apply(lambda x: 1 if x > 0 else 0)\n",
    "res.reset_index()"
   ],
   "metadata": {
    "collapsed": false
   }
  },
  {
   "cell_type": "code",
   "execution_count": null,
   "id": "64aa96e3",
   "metadata": {},
   "outputs": [],
   "source": [
    "# Дропаем\n",
    "df_sessions = df_sessions.drop(['device_model', 'utm_keyword'], axis=1)\n",
    "\n",
    "# Заполняю utm_source значением other\n",
    "columns = ['utm_source', 'utm_campaign', 'device_os', 'device_brand', 'utm_adcontent']\n",
    "df_sessions[columns] = df_sessions[columns].fillna('other')"
   ]
  },
  {
   "cell_type": "code",
   "execution_count": null,
   "outputs": [],
   "source": [
    "df_sessions"
   ],
   "metadata": {
    "collapsed": false
   }
  },
  {
   "cell_type": "code",
   "execution_count": null,
   "outputs": [],
   "source": [],
   "metadata": {
    "collapsed": false
   }
  }
 ],
 "metadata": {
  "kernelspec": {
   "display_name": "Python 3 (ipykernel)",
   "language": "python",
   "name": "python3"
  },
  "language_info": {
   "codemirror_mode": {
    "name": "ipython",
    "version": 3
   },
   "file_extension": ".py",
   "mimetype": "text/x-python",
   "name": "python",
   "nbconvert_exporter": "python",
   "pygments_lexer": "ipython3",
   "version": "3.10.5"
  },
  "latex_envs": {
   "LaTeX_envs_menu_present": true,
   "autoclose": false,
   "autocomplete": true,
   "bibliofile": "biblio.bib",
   "cite_by": "apalike",
   "current_citInitial": 1,
   "eqLabelWithNumbers": true,
   "eqNumInitial": 1,
   "hotkeys": {
    "equation": "Ctrl-E",
    "itemize": "Ctrl-I"
   },
   "labels_anchors": false,
   "latex_user_defs": false,
   "report_style_numbering": false,
   "user_envs_cfg": false
  }
 },
 "nbformat": 4,
 "nbformat_minor": 5
}
